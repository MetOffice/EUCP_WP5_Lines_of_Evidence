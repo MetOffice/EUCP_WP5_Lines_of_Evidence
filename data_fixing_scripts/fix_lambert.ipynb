{
 "cells": [
  {
   "cell_type": "markdown",
   "metadata": {},
   "source": [
    "workbook to pull coord detail from the 1hr file, and add to the processed monthly files"
   ]
  },
  {
   "cell_type": "code",
   "execution_count": 1,
   "metadata": {},
   "outputs": [],
   "source": [
    "# imports\n",
    "import netCDF4 as nc\n",
    "import shutil"
   ]
  },
  {
   "cell_type": "code",
   "execution_count": 2,
   "metadata": {},
   "outputs": [],
   "source": [
    "# files to work with\n",
    "hrly_file = '/project/applied/Data/cordex-fpsc/from_escience/CNRS-CNRM/ALP-3/pr_ALP-3_CNRM-CERFACS-CNRM-CM5_historical_r1i1p1_CNRM-AROME41t1_fpsconv-x2yn2-v1_1hr_199601010030-199612312330.nc'\n",
    "\n",
    "monthly_file = '/project/applied/Data/cordex-fpsc/from_escience/CNRS-CNRM/ALP-3/historical/pr_ALP-3_CNRM-CERFACS-CNRM-CM5_historical_r1i1p1_CNRM-AROME41t1_fpsconv-x2yn2-v1_mon_199601-200601.nc'\n",
    "\n",
    "var = 'pr'"
   ]
  },
  {
   "cell_type": "code",
   "execution_count": 3,
   "metadata": {},
   "outputs": [],
   "source": [
    "# open hrly file\n",
    "hrly_nc = nc.Dataset(hrly_file, 'r')"
   ]
  },
  {
   "cell_type": "code",
   "execution_count": 4,
   "metadata": {},
   "outputs": [],
   "source": [
    "# grab coords and grid mapping info\n",
    "x_coord = hrly_nc.variables['x']\n",
    "y_coord = hrly_nc.variables['y']\n",
    "lc = hrly_nc.variables['Lambert_Conformal']"
   ]
  },
  {
   "cell_type": "code",
   "execution_count": 5,
   "metadata": {},
   "outputs": [],
   "source": [
    "# load the monthly file\n",
    "# create a copy to work with\n",
    "copy_name = \"/scratch/tcrocker/test_file.nc\"\n",
    "shutil.copy(monthly_file, copy_name)\n",
    "mthly_nc = nc.Dataset(copy_name, 'r+')"
   ]
  },
  {
   "cell_type": "code",
   "execution_count": 6,
   "metadata": {},
   "outputs": [],
   "source": [
    "# Add x and y dimensions to the file\n",
    "mthly_nc.renameDimension('dim1', 'y')\n",
    "mthly_nc.renameDimension('dim2', 'x')\n",
    "\n"
   ]
  },
  {
   "cell_type": "code",
   "execution_count": 7,
   "metadata": {},
   "outputs": [],
   "source": [
    "# this is not sufficient, maybe I should use the createVariable method\n",
    "#mthly_nc.variables['x'] = x_coord\n",
    "#mthly_nc.variables['y'] = y_coord\n",
    "\n",
    "# create variables\n",
    "new_y = mthly_nc.createVariable('y', y_coord.datatype, y_coord.dimensions)\n",
    "new_x = mthly_nc.createVariable('x', x_coord.datatype, x_coord.dimensions)\n",
    "\n",
    "# copy metadata\n",
    "for propname in y_coord.ncattrs():\n",
    "    if propname == '_FillValue':\n",
    "        continue\n",
    "    prop = getattr(y_coord, propname)\n",
    "    setattr(new_y, propname, prop)\n",
    "\n",
    "for propname in x_coord.ncattrs():\n",
    "    if propname == '_FillValue':\n",
    "        continue\n",
    "    prop = getattr(x_coord, propname)\n",
    "    setattr(new_x, propname, prop)\n",
    "\n",
    "# copy data\n",
    "new_y[:] = y_coord[:]\n",
    "new_x[:] = x_coord[:]"
   ]
  },
  {
   "cell_type": "code",
   "execution_count": 8,
   "metadata": {},
   "outputs": [],
   "source": [
    "# create fixed Lambert conformal variable\n",
    "new_lc = mthly_nc.createVariable('Lambert_Conformal', 'i', ())\n",
    "# set properties\n",
    "for propname in lc.ncattrs():\n",
    "    prop = getattr(lc, propname)\n",
    "    setattr(new_lc, propname, prop)\n",
    "\n",
    "# add grid mapping attribute to file\n",
    "mthly_nc.variables[var].grid_mapping = 'Lambert_Conformal'"
   ]
  },
  {
   "cell_type": "code",
   "execution_count": 9,
   "metadata": {},
   "outputs": [
    {
     "name": "stdout",
     "output_type": "stream",
     "text": [
      "OrderedDict([('pr', <class 'netCDF4._netCDF4.Variable'>\n",
      "float32 pr(time, y, x)\n",
      "    standard_name: precipitation_flux\n",
      "    long_name: Precipitation\n",
      "    units: kg m-2 s-1\n",
      "    cell_methods: time: mean month_number: year: mean\n",
      "    coordinates: lat lon\n",
      "    grid_mapping: Lambert_Conformal\n",
      "unlimited dimensions: \n",
      "current shape = (121, 487, 587)\n",
      "filling on, default _FillValue of 9.969209968386869e+36 used\n",
      "), ('time', <class 'netCDF4._netCDF4.Variable'>\n",
      "float64 time(time)\n",
      "    axis: T\n",
      "    bounds: time_bnds\n",
      "    units: hours since 1949-12-01 00:00:00\n",
      "    standard_name: time\n",
      "    long_name: Time axis\n",
      "    calendar: gregorian\n",
      "    time_origin: 1949-12-01 00:00:00\n",
      "unlimited dimensions: \n",
      "current shape = (121,)\n",
      "filling on, default _FillValue of 9.969209968386869e+36 used\n",
      "), ('time_bnds', <class 'netCDF4._netCDF4.Variable'>\n",
      "float64 time_bnds(time, bnds)\n",
      "unlimited dimensions: \n",
      "current shape = (121, 2)\n",
      "filling on, default _FillValue of 9.969209968386869e+36 used\n",
      "), ('lat', <class 'netCDF4._netCDF4.Variable'>\n",
      "float64 lat(y, x)\n",
      "    units: degrees_north\n",
      "    standard_name: latitude\n",
      "    long_name: Latitude\n",
      "unlimited dimensions: \n",
      "current shape = (487, 587)\n",
      "filling on, default _FillValue of 9.969209968386869e+36 used\n",
      "), ('lon', <class 'netCDF4._netCDF4.Variable'>\n",
      "float64 lon(y, x)\n",
      "    units: degrees_east\n",
      "    standard_name: longitude\n",
      "    long_name: Longitude\n",
      "unlimited dimensions: \n",
      "current shape = (487, 587)\n",
      "filling on, default _FillValue of 9.969209968386869e+36 used\n",
      "), ('y', <class 'netCDF4._netCDF4.Variable'>\n",
      "float32 y(y)\n",
      "    axis: Y\n",
      "    standard_name: projection_y_coordinate\n",
      "    long_name: y coordinate of projection\n",
      "    units: km\n",
      "unlimited dimensions: \n",
      "current shape = (487,)\n",
      "filling on, default _FillValue of 9.969209968386869e+36 used\n",
      "), ('x', <class 'netCDF4._netCDF4.Variable'>\n",
      "float32 x(x)\n",
      "    axis: X\n",
      "    standard_name: projection_x_coordinate\n",
      "    long_name: x coordinate of projection\n",
      "    units: km\n",
      "unlimited dimensions: \n",
      "current shape = (587,)\n",
      "filling on, default _FillValue of 9.969209968386869e+36 used\n",
      "), ('Lambert_Conformal', <class 'netCDF4._netCDF4.Variable'>\n",
      "int32 Lambert_Conformal()\n",
      "    grid_mapping_name: lambert_conformal_conic\n",
      "    longitude_of_central_meridian: 8.48\n",
      "    standard_parallel: 44.88\n",
      "    latitude_of_projection_origin: 44.88\n",
      "unlimited dimensions: \n",
      "current shape = ()\n",
      "filling on, default _FillValue of -2147483647 used\n",
      ")])\n"
     ]
    }
   ],
   "source": [
    "print(mthly_nc.variables)"
   ]
  },
  {
   "cell_type": "code",
   "execution_count": 10,
   "metadata": {},
   "outputs": [],
   "source": [
    "# tidy up\n",
    "hrly_nc.close()\n",
    "mthly_nc.close()"
   ]
  },
  {
   "cell_type": "code",
   "execution_count": null,
   "metadata": {},
   "outputs": [],
   "source": []
  }
 ],
 "metadata": {
  "kernelspec": {
   "display_name": "Python 3.6.10 64-bit ('current')",
   "name": "python3610jvsc74a57bd001503f742c724bb26f5ba43e74f15ffcf58d17052609dffc476422129c95cbd4"
  },
  "language_info": {
   "codemirror_mode": {
    "name": "ipython",
    "version": 3
   },
   "file_extension": ".py",
   "mimetype": "text/x-python",
   "name": "python",
   "nbconvert_exporter": "python",
   "pygments_lexer": "ipython3",
   "version": "3.6.10"
  }
 },
 "nbformat": 4,
 "nbformat_minor": 2
}
